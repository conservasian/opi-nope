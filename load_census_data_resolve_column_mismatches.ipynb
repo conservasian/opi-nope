{
 "cells": [
  {
   "cell_type": "code",
   "execution_count": 2,
   "metadata": {},
   "outputs": [],
   "source": [
    "import pandas as pd\n",
    "import os\n",
    "import glob"
   ]
  },
  {
   "cell_type": "code",
   "execution_count": 3,
   "metadata": {},
   "outputs": [],
   "source": [
    "def create_fips_code(df):\n",
    "    fips_code = []\n",
    "    for i in range(df['state fips code'].shape[0]):\n",
    "        # combine the statecode and countycode to create the fips_code\n",
    "        string = '{:d}{:03d}'.format(df['state fips code'].iloc[i], df['county fips code'].iloc[i])\n",
    "        fips_code.append(int(string)) \n",
    "    return fips_code"
   ]
  },
  {
   "cell_type": "code",
   "execution_count": 4,
   "metadata": {},
   "outputs": [],
   "source": [
    "def load_data_from_dir(data_dir):\n",
    "    file_wildcard = os.path.join(data_dir, '*.csv')\n",
    "    for i, filepath in enumerate(reversed(glob.glob(file_wildcard))):\n",
    "        year = filepath.split('/')[-1].split('\\\\')[-1].split('_')[0]\n",
    "        print(i, filepath, year)\n",
    "\n",
    "        # load the data\n",
    "        data = pd.read_csv(filepath, encoding='utf-8')\n",
    "        print(data.shape)\n",
    "        # convert all columns to lower case\n",
    "        data.columns = map(str.lower, data.columns)\n",
    "        # calculate the fips_code and insert as 1st column\n",
    "        data.insert(loc=0, column='County Code', value=create_fips_code(data))\n",
    "        # insert the year as the 2nd column\n",
    "        data.insert(loc=1, column='year', value=int(year))\n",
    "        \n",
    "        # concatenate dataframes together\n",
    "        if i == 0:\n",
    "            df = data\n",
    "            orig_columns = data.columns\n",
    "        else:\n",
    "            df = pd.concat([df, data])\n",
    "        \n",
    "    return df"
   ]
  },
  {
   "cell_type": "code",
   "execution_count": 5,
   "metadata": {},
   "outputs": [],
   "source": [
    "def return_not_matches(a, b):\n",
    "    return [[x for x in a if x not in b], [x for x in b if x not in a]]"
   ]
  },
  {
   "cell_type": "code",
   "execution_count": 31,
   "metadata": {},
   "outputs": [
    {
     "name": "stdout",
     "output_type": "stream",
     "text": [
      "(3220, 1342)\n",
      "(3220, 1342)\n"
     ]
    }
   ],
   "source": [
    "# load the data\n",
    "data_2016 = pd.read_csv('data/census/2016_census.csv', encoding='utf-8')\n",
    "data_2015 = pd.read_csv('data/census/2015_census.csv', encoding='utf-8')\n",
    "print(data_2016.shape)\n",
    "print(data_2015.shape)\n",
    "# convert all columns to lower case\n",
    "data_2016.columns = map(str.lower, data_2016.columns)\n",
    "data_2015.columns = map(str.lower, data_2015.columns)\n",
    "# calculate the fips_code and insert as 1st column\n",
    "data_2016.insert(loc=0, column='County Code', value=create_fips_code(data_2016))\n",
    "data_2015.insert(loc=0, column='County Code', value=create_fips_code(data_2015))\n",
    "# insert the year as the 2nd column\n",
    "data_2016.insert(loc=1, column='year', value=int(2016))\n",
    "data_2015.insert(loc=1, column='year', value=int(2015))"
   ]
  },
  {
   "cell_type": "code",
   "execution_count": 32,
   "metadata": {},
   "outputs": [],
   "source": [
    "def replace_substring_in_list(str_list, target_substring, replace_substring):\n",
    "    new_list = []\n",
    "    for s in str_list:\n",
    "        if target_substring in s:\n",
    "            s = s.replace(target_substring, replace_substring)\n",
    "        new_list.append(s)\n",
    "    return new_list"
   ]
  },
  {
   "cell_type": "code",
   "execution_count": 39,
   "metadata": {},
   "outputs": [],
   "source": [
    "data_2016.columns = replace_substring_in_list(data_2016.columns, '2016 ', '')\n",
    "data_2016.columns = replace_substring_in_list(data_2016.columns, 'all people!!', '')\n",
    "data_2016.columns = replace_substring_in_list(data_2016.columns, 'poverty level!!18 years and over!!', 'poverty level!!')\n",
    "\n",
    "data_2015.columns = replace_substring_in_list(data_2015.columns, '2015 ', '')\n",
    "data_2015.columns = replace_substring_in_list(data_2015.columns, 'poverty level!!65 years and over!!', 'poverty level!!')"
   ]
  },
  {
   "cell_type": "code",
   "execution_count": 42,
   "metadata": {},
   "outputs": [
    {
     "name": "stdout",
     "output_type": "stream",
     "text": [
      "2\n",
      "2\n",
      "['estimate!!year householder moved into unit!!occupied housing units!!moved in 2015 or later', 'percent!!year householder moved into unit!!occupied housing units!!moved in 2015 or later']\n",
      "\n",
      "['estimate!!year householder moved into unit!!occupied housing units!!moved in or later', 'percent!!year householder moved into unit!!occupied housing units!!moved in or later']\n"
     ]
    }
   ],
   "source": [
    "tmp = return_not_matches(data_2016.columns, data_2015.columns)\n",
    "\n",
    "print(len(tmp[0]))\n",
    "print(len(tmp[1]))\n",
    "print(tmp[0])\n",
    "print()\n",
    "print(tmp[1])"
   ]
  },
  {
   "cell_type": "code",
   "execution_count": 43,
   "metadata": {},
   "outputs": [],
   "source": [
    "# concatenate data into a single dataframe\n",
    "df = pd.concat([data_2016, data_2015])"
   ]
  },
  {
   "cell_type": "code",
   "execution_count": 44,
   "metadata": {},
   "outputs": [
    {
     "name": "stdout",
     "output_type": "stream",
     "text": [
      "(6440, 1346)\n"
     ]
    }
   ],
   "source": [
    "print(df.shape)"
   ]
  }
 ],
 "metadata": {
  "kernelspec": {
   "display_name": "Python 3",
   "language": "python",
   "name": "python3"
  },
  "language_info": {
   "codemirror_mode": {
    "name": "ipython",
    "version": 3
   },
   "file_extension": ".py",
   "mimetype": "text/x-python",
   "name": "python",
   "nbconvert_exporter": "python",
   "pygments_lexer": "ipython3",
   "version": "3.6.4"
  }
 },
 "nbformat": 4,
 "nbformat_minor": 2
}
