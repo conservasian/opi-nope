{
 "cells": [
  {
   "cell_type": "code",
   "execution_count": 24,
   "metadata": {},
   "outputs": [],
   "source": [
    "import pandas as pd\n",
    "import os\n",
    "import glob"
   ]
  },
  {
   "cell_type": "code",
   "execution_count": 39,
   "metadata": {},
   "outputs": [],
   "source": [
    "def create_fips_code(df):\n",
    "    fips_code = []\n",
    "    for i in range(df['state fips code'].shape[0]):\n",
    "        # combine the statecode and countycode to create the fips_code\n",
    "        string = '{:d}{:03d}'.format(df['state fips code'].iloc[i], df['county fips code'].iloc[i])\n",
    "        fips_code.append(int(string)) \n",
    "    return fips_code"
   ]
  },
  {
   "cell_type": "code",
   "execution_count": 42,
   "metadata": {},
   "outputs": [],
   "source": [
    "def load_data_from_dir(data_dir):\n",
    "    file_wildcard = os.path.join(data_dir, '*.csv')\n",
    "    for i, filepath in enumerate(reversed(glob.glob(file_wildcard))):\n",
    "        year = filepath.split('/')[-1].split('\\\\')[-1].split('_')[0]\n",
    "        print(i, filepath, year)\n",
    "\n",
    "        # load the data\n",
    "        data = pd.read_csv(filepath, encoding='utf-8')\n",
    "        print(data.shape)\n",
    "        # convert all columns to lower case\n",
    "        data.columns = map(str.lower, data.columns)\n",
    "        # calculate the fips_code and insert as 1st column\n",
    "        data.insert(loc=0, column='County Code', value=create_fips_code(data))\n",
    "        # insert the year as the 2nd column\n",
    "        data.insert(loc=1, column='year', value=int(year))\n",
    "        \n",
    "        # concatenate dataframes together\n",
    "        if i == 0:\n",
    "            df = data\n",
    "            orig_columns = data.columns\n",
    "        else:\n",
    "            df = pd.concat([df, data])\n",
    "        \n",
    "    return df"
   ]
  },
  {
   "cell_type": "code",
   "execution_count": 46,
   "metadata": {},
   "outputs": [
    {
     "name": "stdout",
     "output_type": "stream",
     "text": [
      "0 data/census\\2016_census.csv 2016\n",
      "(3220, 1342)\n",
      "1 data/census\\2015_census.csv 2015\n",
      "(3220, 1342)\n",
      "(6440, 1450)\n"
     ]
    }
   ],
   "source": [
    "# load all data into a single dataframe\n",
    "data_dir = 'data/census'\n",
    "df = load_data_from_dir(data_dir)\n",
    "print(df.shape)"
   ]
  }
 ],
 "metadata": {
  "kernelspec": {
   "display_name": "Python 3",
   "language": "python",
   "name": "python3"
  },
  "language_info": {
   "codemirror_mode": {
    "name": "ipython",
    "version": 3
   },
   "file_extension": ".py",
   "mimetype": "text/x-python",
   "name": "python",
   "nbconvert_exporter": "python",
   "pygments_lexer": "ipython3",
   "version": "3.6.4"
  }
 },
 "nbformat": 4,
 "nbformat_minor": 2
}
