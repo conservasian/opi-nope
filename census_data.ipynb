{
 "cells": [
  {
   "cell_type": "code",
   "execution_count": 29,
   "metadata": {
    "collapsed": true
   },
   "outputs": [],
   "source": [
    "import pandas as pd\n",
    "import cenpy as cen\n",
    "import us"
   ]
  },
  {
   "cell_type": "code",
   "execution_count": 30,
   "metadata": {
    "collapsed": false
   },
   "outputs": [],
   "source": [
    "api_database = 'ACSProfile5Y2016'\n",
    "api_conn = cen.base.Connection(api_database)\n",
    "\n",
    "cols = api_conn.varslike('DP03_\\S+')\n",
    "\n",
    "cols.extend(['NAME', 'STATE', 'COUNTY'])"
   ]
  },
  {
   "cell_type": "code",
   "execution_count": 31,
   "metadata": {
    "collapsed": false
   },
   "outputs": [],
   "source": [
    "variable_names = list(api_conn.variables.index)\n",
    "variable_descriptions = api_conn.variables['label'].tolist()\n",
    "\n",
    "var_to_description = dict()\n",
    "for key, value in zip(variable_names, variable_descriptions):\n",
    "    var_to_description[key] = value"
   ]
  },
  {
   "cell_type": "code",
   "execution_count": 32,
   "metadata": {
    "collapsed": false
   },
   "outputs": [
    {
     "name": "stderr",
     "output_type": "stream",
     "text": [
      "C:\\Users\\Ningrui\\Anaconda3\\lib\\site-packages\\cenpy\\remote.py:172: FutureWarning: convert_objects is deprecated.  Use the data-type specific converters pd.to_datetime, pd.to_timedelta and pd.to_numeric.\n",
      "  df[cols] = df[cols].convert_objects(convert_numeric=convert_numeric)\n"
     ]
    }
   ],
   "source": [
    "g_unit = 'county'\n",
    "g_filter = {}\n",
    "\n",
    "data = api_conn.query(cols, geo_unit=g_unit, geo_filter=g_filter)\n",
    "\n",
    "data = data.rename(index=str, columns=var_to_description)\n",
    "\n",
    "data.to_csv('2016_census.csv')"
   ]
  }
 ],
 "metadata": {
  "kernelspec": {
   "display_name": "Python 3",
   "language": "python",
   "name": "python3"
  },
  "language_info": {
   "codemirror_mode": {
    "name": "ipython",
    "version": 3
   },
   "file_extension": ".py",
   "mimetype": "text/x-python",
   "name": "python",
   "nbconvert_exporter": "python",
   "pygments_lexer": "ipython3",
   "version": "3.6.0"
  }
 },
 "nbformat": 4,
 "nbformat_minor": 2
}
